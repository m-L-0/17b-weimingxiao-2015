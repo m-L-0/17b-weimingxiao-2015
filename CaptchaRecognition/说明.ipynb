{
 "cells": [
  {
   "cell_type": "markdown",
   "metadata": {},
   "source": [
    "## 文件格式\n",
    "#### │Project\n",
    "#### ├── cnn (放保存的模型)\n",
    "#### ├── templates（web模板）\n",
    "#### ├── data（图片数据）\n",
    "#### ├── load（web上传图片保存路径）\n",
    "#### ├── a.py（web代码）\n",
    "#### ├── mycnn.py（cnn模型代码）\n",
    "#### ├── read.py（读取文件代码）\n",
    "#### ├── 说明.ipynb（说明文档）\n",
    "#### └── main.ipynb（代码）\n",
    "\n",
    "## 经统计验证码个如数如下：\n",
    "\n",
    "### 一位验证码有9844个\n",
    "### 两位验证码有5908个\n",
    "### 三位验证码有16183个\n",
    "### 四位验证码有8065个"
   ]
  },
  {
   "cell_type": "markdown",
   "metadata": {},
   "source": [
    "### 将数据集按照8:1:1比例划分为训练集、验证集与测试集"
   ]
  },
  {
   "cell_type": "markdown",
   "metadata": {},
   "source": [
    "## 模型设计：\n",
    "\n",
    "### 采用cnn卷积神经网络 \n",
    "### 模型为一层32个卷积核的卷积 一层48个卷积核的卷积 一层2×2池化层 一层64个卷积核的卷积 一层2×2池化层 一层64个卷积核的卷积 一层2×2池化层 总计四层卷积三层池化 后接全连接层 输出层"
   ]
  },
  {
   "cell_type": "markdown",
   "metadata": {
    "collapsed": true
   },
   "source": [
    "### 为了保证训练强度均匀，每个训练集的不同位数验证码数量都相差不多\n",
    "\n",
    "## 可视化:\n",
    "#### 整体可视化得到的图结构与代价摘要截图\n",
    "![](graph.png)\n",
    "#### 代价与验证代价进行摘要\n",
    "![](loss.png)"
   ]
  },
  {
   "cell_type": "markdown",
   "metadata": {},
   "source": [
    "### 最终经训练100张图片 第一位正确率为 0.9,第二位正确率为 1,第三位正确率为 1,第四位正确率为 1\n",
    "### 总正确率为88.97"
   ]
  },
  {
   "cell_type": "markdown",
   "metadata": {},
   "source": [
    "### 分析评价：\n",
    "#### 增加卷积层能有效提高正确率\n",
    "#### 该模型仍然验证一位验证码正确最高 四位验证码最低 这也是正确率偏高的原因\n",
    "#### 随着训练图片增加正确率会提高 但图片增加到一定地步后 正确率会跌至0"
   ]
  },
  {
   "cell_type": "markdown",
   "metadata": {},
   "source": [
    "### web 界面\n",
    "![](web.png)"
   ]
  },
  {
   "cell_type": "code",
   "execution_count": null,
   "metadata": {
    "collapsed": true
   },
   "outputs": [],
   "source": []
  }
 ],
 "metadata": {
  "kernelspec": {
   "display_name": "Python 3",
   "language": "python",
   "name": "python3"
  },
  "language_info": {
   "codemirror_mode": {
    "name": "ipython",
    "version": 3
   },
   "file_extension": ".py",
   "mimetype": "text/x-python",
   "name": "python",
   "nbconvert_exporter": "python",
   "pygments_lexer": "ipython3",
   "version": "3.5.2"
  }
 },
 "nbformat": 4,
 "nbformat_minor": 2
}
