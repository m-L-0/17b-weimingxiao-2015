{
 "cells": [
  {
   "cell_type": "markdown",
   "metadata": {
    "collapsed": true
   },
   "source": [
    "## 数据分布\n",
    "为方便代码执行 把训练集验证集分为了10000张 和3475张\n",
    "生成时随机取图片生成的分布图如下\n",
    "![index.png](index.png)\n",
    "\n",
    "经测试 这个比例可以很好训练数据"
   ]
  },
  {
   "cell_type": "markdown",
   "metadata": {
    "collapsed": true
   },
   "source": [
    "## 网络结构\n",
    "代码使用的是cnn卷积神经网络 具体内容如下\n",
    "1. 代码使用了三层3×3卷积 三层2×2池化  一层全连接层\n",
    "2. 卷积核为32 64 96 全连接神经元为512\n",
    "3. 使用的激活函数为relu\n",
    "4. 使用dropout进行正则化 学习率为0.7\n",
    "\n",
    "### 经测试 训练2400次 正确率最高验证集正确率能达98\n",
    "召回率需测试后才能补充"
   ]
  },
  {
   "cell_type": "markdown",
   "metadata": {},
   "source": [
    "## 学习总结\n",
    "1. 了解了cnn神经网络执行的基本流程\n",
    "2. 了解了反向传播传播的含义\n",
    "3. relu激活函数是非线性激活函数\n",
    "4. 使用非线性激活函数的原因是为了更好的拟合预测图像\n",
    "5. 卷积参数不能取值过大 容易导致计算缓慢 正确率提高慢\n",
    "6. 学会了如何保存模型\n",
    "7. 学会了如何产生tfrecord文件\n",
    "8. dropout时舍弃一部分神经元 有利于正确率提升\n",
    "9. 什么是正则化\n",
    "10. 如何改变图片通道数\n",
    "11. 如何改变图片大小"
   ]
  },
  {
   "cell_type": "code",
   "execution_count": null,
   "metadata": {
    "collapsed": true
   },
   "outputs": [],
   "source": []
  }
 ],
 "metadata": {
  "kernelspec": {
   "display_name": "Python 3",
   "language": "python",
   "name": "python3"
  },
  "language_info": {
   "codemirror_mode": {
    "name": "ipython",
    "version": 3
   },
   "file_extension": ".py",
   "mimetype": "text/x-python",
   "name": "python",
   "nbconvert_exporter": "python",
   "pygments_lexer": "ipython3",
   "version": "3.5.2"
  }
 },
 "nbformat": 4,
 "nbformat_minor": 2
}
